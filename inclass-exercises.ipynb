{
 "cells": [
  {
   "cell_type": "markdown",
   "metadata": {},
   "source": [
    "## MS 263 - Data Analysis Techniques in Marine Science\n",
    "### In-class exercises - May 14, 2018"
   ]
  },
  {
   "cell_type": "markdown",
   "metadata": {},
   "source": [
    "#### NPZ model"
   ]
  },
  {
   "cell_type": "markdown",
   "metadata": {},
   "source": [
    "1. Download the Jupyter Notebook from https://github.com/mlmldata2018/week14_modeling\n",
    "\n",
    "2. Read through the notebook and figures to become familiar with the contents.\n",
    "\n",
    "3. With a partner, choose one model parameter. Make a prediction of how changing this model parameter will affect the model results.\n",
    "\n",
    "4. After making a prediction, systematically adjust the parameter. Take notes on how changing that model parameter affects the model results.\n",
    "\n",
    "5. Try different formulations for the grazers' ingestion curve (e.g. Ivlev, quadratic). How does the model behavior change.\n",
    "\n",
    "6. Keep exploring the model for different parameters, ingestions curves and initial conditions. Write down any interesting results, general statements or questions about the model.\n",
    "\n",
    "7. Can you \"blow up\" the model (get values that do not conserve mass, or fall below zero)? If so, how?"
   ]
  }
 ],
 "metadata": {
  "anaconda-cloud": {},
  "kernelspec": {
   "display_name": "Python [default]",
   "language": "python",
   "name": "python3"
  },
  "language_info": {
   "codemirror_mode": {
    "name": "ipython",
    "version": 3
   },
   "file_extension": ".py",
   "mimetype": "text/x-python",
   "name": "python",
   "nbconvert_exporter": "python",
   "pygments_lexer": "ipython3",
   "version": "3.5.5"
  }
 },
 "nbformat": 4,
 "nbformat_minor": 2
}
